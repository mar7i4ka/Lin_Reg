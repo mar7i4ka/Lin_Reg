{
  "nbformat": 4,
  "nbformat_minor": 0,
  "metadata": {
    "colab": {
      "provenance": [],
      "include_colab_link": true
    },
    "kernelspec": {
      "name": "python3",
      "display_name": "Python 3"
    },
    "language_info": {
      "name": "python"
    }
  },
  "cells": [
    {
      "cell_type": "markdown",
      "metadata": {
        "id": "view-in-github",
        "colab_type": "text"
      },
      "source": [
        "<a href=\"https://colab.research.google.com/github/mar7i4ka/Lin_Reg/blob/main/Regression_Notebook.ipynb\" target=\"_parent\"><img src=\"https://colab.research.google.com/assets/colab-badge.svg\" alt=\"Open In Colab\"/></a>"
      ]
    },
    {
      "cell_type": "code",
      "metadata": {
        "colab": {
          "base_uri": "https://localhost:8080/"
        },
        "id": "BmCLQSpdRXOy",
        "outputId": "bbb89ba7-a773-4359-80d1-b2c20abed05f"
      },
      "source": [
        "from google.colab import drive\n",
        "drive.mount('/content/drive')"
      ],
      "execution_count": null,
      "outputs": [
        {
          "output_type": "stream",
          "name": "stdout",
          "text": [
            "Mounted at /content/drive\n"
          ]
        }
      ]
    },
    {
      "cell_type": "code",
      "metadata": {
        "id": "RIDMfOaKRbyK"
      },
      "source": [
        "import numpy as np\n",
        "import pandas as pd\n",
        "import matplotlib.pyplot as plt\n",
        "import seaborn as sns\n",
        "import statsmodels.api as sm\n",
        "\n",
        "from sklearn.linear_model import LogisticRegression\n",
        "from sklearn.linear_model import LinearRegression\n",
        "from sklearn.metrics import r2_score,mean_squared_error\n",
        "from sklearn.model_selection import train_test_split"
      ],
      "execution_count": null,
      "outputs": []
    },
    {
      "cell_type": "code",
      "metadata": {
        "id": "2m-tbjVjRcu1"
      },
      "source": [
        "df = pd.read_csv('drive/MyDrive/Colab Notebooks/DS - lectures/auto-mpg.csv')\n",
        "df.columns = [col.replace(' ', '_') for col in df.columns]"
      ],
      "execution_count": null,
      "outputs": []
    },
    {
      "cell_type": "markdown",
      "metadata": {
        "id": "q6OhwLI9HacU"
      },
      "source": [
        "Тъй като променливата horsepower не е известна за 3 реда от данните и е въведена като '?', премахваме съответните редове."
      ]
    },
    {
      "cell_type": "code",
      "metadata": {
        "id": "f9ca9RXKUQgF"
      },
      "source": [
        "df = df[df.horsepower.str.isnumeric()]\n",
        "df.horsepower = pd.to_numeric(df.horsepower)"
      ],
      "execution_count": null,
      "outputs": []
    },
    {
      "cell_type": "code",
      "source": [
        "df.describe()"
      ],
      "metadata": {
        "colab": {
          "base_uri": "https://localhost:8080/",
          "height": 300
        },
        "id": "hp3CdmxIr6Oq",
        "outputId": "f1c1e674-816b-44bc-93e6-6eb4ec86198f"
      },
      "execution_count": null,
      "outputs": [
        {
          "output_type": "execute_result",
          "data": {
            "text/plain": [
              "              mpg   cylinders  displacement  horsepower       weight  \\\n",
              "count  392.000000  392.000000    392.000000  392.000000   392.000000   \n",
              "mean    23.445918    5.471939    194.411990  104.469388  2977.584184   \n",
              "std      7.805007    1.705783    104.644004   38.491160   849.402560   \n",
              "min      9.000000    3.000000     68.000000   46.000000  1613.000000   \n",
              "25%     17.000000    4.000000    105.000000   75.000000  2225.250000   \n",
              "50%     22.750000    4.000000    151.000000   93.500000  2803.500000   \n",
              "75%     29.000000    8.000000    275.750000  126.000000  3614.750000   \n",
              "max     46.600000    8.000000    455.000000  230.000000  5140.000000   \n",
              "\n",
              "       acceleration  model_year      origin  \n",
              "count    392.000000  392.000000  392.000000  \n",
              "mean      15.541327   75.979592    1.576531  \n",
              "std        2.758864    3.683737    0.805518  \n",
              "min        8.000000   70.000000    1.000000  \n",
              "25%       13.775000   73.000000    1.000000  \n",
              "50%       15.500000   76.000000    1.000000  \n",
              "75%       17.025000   79.000000    2.000000  \n",
              "max       24.800000   82.000000    3.000000  "
            ],
            "text/html": [
              "\n",
              "  <div id=\"df-b2d497bc-08af-4fcb-a4bf-91790c1328e0\" class=\"colab-df-container\">\n",
              "    <div>\n",
              "<style scoped>\n",
              "    .dataframe tbody tr th:only-of-type {\n",
              "        vertical-align: middle;\n",
              "    }\n",
              "\n",
              "    .dataframe tbody tr th {\n",
              "        vertical-align: top;\n",
              "    }\n",
              "\n",
              "    .dataframe thead th {\n",
              "        text-align: right;\n",
              "    }\n",
              "</style>\n",
              "<table border=\"1\" class=\"dataframe\">\n",
              "  <thead>\n",
              "    <tr style=\"text-align: right;\">\n",
              "      <th></th>\n",
              "      <th>mpg</th>\n",
              "      <th>cylinders</th>\n",
              "      <th>displacement</th>\n",
              "      <th>horsepower</th>\n",
              "      <th>weight</th>\n",
              "      <th>acceleration</th>\n",
              "      <th>model_year</th>\n",
              "      <th>origin</th>\n",
              "    </tr>\n",
              "  </thead>\n",
              "  <tbody>\n",
              "    <tr>\n",
              "      <th>count</th>\n",
              "      <td>392.000000</td>\n",
              "      <td>392.000000</td>\n",
              "      <td>392.000000</td>\n",
              "      <td>392.000000</td>\n",
              "      <td>392.000000</td>\n",
              "      <td>392.000000</td>\n",
              "      <td>392.000000</td>\n",
              "      <td>392.000000</td>\n",
              "    </tr>\n",
              "    <tr>\n",
              "      <th>mean</th>\n",
              "      <td>23.445918</td>\n",
              "      <td>5.471939</td>\n",
              "      <td>194.411990</td>\n",
              "      <td>104.469388</td>\n",
              "      <td>2977.584184</td>\n",
              "      <td>15.541327</td>\n",
              "      <td>75.979592</td>\n",
              "      <td>1.576531</td>\n",
              "    </tr>\n",
              "    <tr>\n",
              "      <th>std</th>\n",
              "      <td>7.805007</td>\n",
              "      <td>1.705783</td>\n",
              "      <td>104.644004</td>\n",
              "      <td>38.491160</td>\n",
              "      <td>849.402560</td>\n",
              "      <td>2.758864</td>\n",
              "      <td>3.683737</td>\n",
              "      <td>0.805518</td>\n",
              "    </tr>\n",
              "    <tr>\n",
              "      <th>min</th>\n",
              "      <td>9.000000</td>\n",
              "      <td>3.000000</td>\n",
              "      <td>68.000000</td>\n",
              "      <td>46.000000</td>\n",
              "      <td>1613.000000</td>\n",
              "      <td>8.000000</td>\n",
              "      <td>70.000000</td>\n",
              "      <td>1.000000</td>\n",
              "    </tr>\n",
              "    <tr>\n",
              "      <th>25%</th>\n",
              "      <td>17.000000</td>\n",
              "      <td>4.000000</td>\n",
              "      <td>105.000000</td>\n",
              "      <td>75.000000</td>\n",
              "      <td>2225.250000</td>\n",
              "      <td>13.775000</td>\n",
              "      <td>73.000000</td>\n",
              "      <td>1.000000</td>\n",
              "    </tr>\n",
              "    <tr>\n",
              "      <th>50%</th>\n",
              "      <td>22.750000</td>\n",
              "      <td>4.000000</td>\n",
              "      <td>151.000000</td>\n",
              "      <td>93.500000</td>\n",
              "      <td>2803.500000</td>\n",
              "      <td>15.500000</td>\n",
              "      <td>76.000000</td>\n",
              "      <td>1.000000</td>\n",
              "    </tr>\n",
              "    <tr>\n",
              "      <th>75%</th>\n",
              "      <td>29.000000</td>\n",
              "      <td>8.000000</td>\n",
              "      <td>275.750000</td>\n",
              "      <td>126.000000</td>\n",
              "      <td>3614.750000</td>\n",
              "      <td>17.025000</td>\n",
              "      <td>79.000000</td>\n",
              "      <td>2.000000</td>\n",
              "    </tr>\n",
              "    <tr>\n",
              "      <th>max</th>\n",
              "      <td>46.600000</td>\n",
              "      <td>8.000000</td>\n",
              "      <td>455.000000</td>\n",
              "      <td>230.000000</td>\n",
              "      <td>5140.000000</td>\n",
              "      <td>24.800000</td>\n",
              "      <td>82.000000</td>\n",
              "      <td>3.000000</td>\n",
              "    </tr>\n",
              "  </tbody>\n",
              "</table>\n",
              "</div>\n",
              "    <div class=\"colab-df-buttons\">\n",
              "\n",
              "  <div class=\"colab-df-container\">\n",
              "    <button class=\"colab-df-convert\" onclick=\"convertToInteractive('df-b2d497bc-08af-4fcb-a4bf-91790c1328e0')\"\n",
              "            title=\"Convert this dataframe to an interactive table.\"\n",
              "            style=\"display:none;\">\n",
              "\n",
              "  <svg xmlns=\"http://www.w3.org/2000/svg\" height=\"24px\" viewBox=\"0 -960 960 960\">\n",
              "    <path d=\"M120-120v-720h720v720H120Zm60-500h600v-160H180v160Zm220 220h160v-160H400v160Zm0 220h160v-160H400v160ZM180-400h160v-160H180v160Zm440 0h160v-160H620v160ZM180-180h160v-160H180v160Zm440 0h160v-160H620v160Z\"/>\n",
              "  </svg>\n",
              "    </button>\n",
              "\n",
              "  <style>\n",
              "    .colab-df-container {\n",
              "      display:flex;\n",
              "      gap: 12px;\n",
              "    }\n",
              "\n",
              "    .colab-df-convert {\n",
              "      background-color: #E8F0FE;\n",
              "      border: none;\n",
              "      border-radius: 50%;\n",
              "      cursor: pointer;\n",
              "      display: none;\n",
              "      fill: #1967D2;\n",
              "      height: 32px;\n",
              "      padding: 0 0 0 0;\n",
              "      width: 32px;\n",
              "    }\n",
              "\n",
              "    .colab-df-convert:hover {\n",
              "      background-color: #E2EBFA;\n",
              "      box-shadow: 0px 1px 2px rgba(60, 64, 67, 0.3), 0px 1px 3px 1px rgba(60, 64, 67, 0.15);\n",
              "      fill: #174EA6;\n",
              "    }\n",
              "\n",
              "    .colab-df-buttons div {\n",
              "      margin-bottom: 4px;\n",
              "    }\n",
              "\n",
              "    [theme=dark] .colab-df-convert {\n",
              "      background-color: #3B4455;\n",
              "      fill: #D2E3FC;\n",
              "    }\n",
              "\n",
              "    [theme=dark] .colab-df-convert:hover {\n",
              "      background-color: #434B5C;\n",
              "      box-shadow: 0px 1px 3px 1px rgba(0, 0, 0, 0.15);\n",
              "      filter: drop-shadow(0px 1px 2px rgba(0, 0, 0, 0.3));\n",
              "      fill: #FFFFFF;\n",
              "    }\n",
              "  </style>\n",
              "\n",
              "    <script>\n",
              "      const buttonEl =\n",
              "        document.querySelector('#df-b2d497bc-08af-4fcb-a4bf-91790c1328e0 button.colab-df-convert');\n",
              "      buttonEl.style.display =\n",
              "        google.colab.kernel.accessAllowed ? 'block' : 'none';\n",
              "\n",
              "      async function convertToInteractive(key) {\n",
              "        const element = document.querySelector('#df-b2d497bc-08af-4fcb-a4bf-91790c1328e0');\n",
              "        const dataTable =\n",
              "          await google.colab.kernel.invokeFunction('convertToInteractive',\n",
              "                                                    [key], {});\n",
              "        if (!dataTable) return;\n",
              "\n",
              "        const docLinkHtml = 'Like what you see? Visit the ' +\n",
              "          '<a target=\"_blank\" href=https://colab.research.google.com/notebooks/data_table.ipynb>data table notebook</a>'\n",
              "          + ' to learn more about interactive tables.';\n",
              "        element.innerHTML = '';\n",
              "        dataTable['output_type'] = 'display_data';\n",
              "        await google.colab.output.renderOutput(dataTable, element);\n",
              "        const docLink = document.createElement('div');\n",
              "        docLink.innerHTML = docLinkHtml;\n",
              "        element.appendChild(docLink);\n",
              "      }\n",
              "    </script>\n",
              "  </div>\n",
              "\n",
              "\n",
              "<div id=\"df-1b8c49c3-bf02-4eb8-9df7-8b941c52d6a9\">\n",
              "  <button class=\"colab-df-quickchart\" onclick=\"quickchart('df-1b8c49c3-bf02-4eb8-9df7-8b941c52d6a9')\"\n",
              "            title=\"Suggest charts\"\n",
              "            style=\"display:none;\">\n",
              "\n",
              "<svg xmlns=\"http://www.w3.org/2000/svg\" height=\"24px\"viewBox=\"0 0 24 24\"\n",
              "     width=\"24px\">\n",
              "    <g>\n",
              "        <path d=\"M19 3H5c-1.1 0-2 .9-2 2v14c0 1.1.9 2 2 2h14c1.1 0 2-.9 2-2V5c0-1.1-.9-2-2-2zM9 17H7v-7h2v7zm4 0h-2V7h2v10zm4 0h-2v-4h2v4z\"/>\n",
              "    </g>\n",
              "</svg>\n",
              "  </button>\n",
              "\n",
              "<style>\n",
              "  .colab-df-quickchart {\n",
              "      --bg-color: #E8F0FE;\n",
              "      --fill-color: #1967D2;\n",
              "      --hover-bg-color: #E2EBFA;\n",
              "      --hover-fill-color: #174EA6;\n",
              "      --disabled-fill-color: #AAA;\n",
              "      --disabled-bg-color: #DDD;\n",
              "  }\n",
              "\n",
              "  [theme=dark] .colab-df-quickchart {\n",
              "      --bg-color: #3B4455;\n",
              "      --fill-color: #D2E3FC;\n",
              "      --hover-bg-color: #434B5C;\n",
              "      --hover-fill-color: #FFFFFF;\n",
              "      --disabled-bg-color: #3B4455;\n",
              "      --disabled-fill-color: #666;\n",
              "  }\n",
              "\n",
              "  .colab-df-quickchart {\n",
              "    background-color: var(--bg-color);\n",
              "    border: none;\n",
              "    border-radius: 50%;\n",
              "    cursor: pointer;\n",
              "    display: none;\n",
              "    fill: var(--fill-color);\n",
              "    height: 32px;\n",
              "    padding: 0;\n",
              "    width: 32px;\n",
              "  }\n",
              "\n",
              "  .colab-df-quickchart:hover {\n",
              "    background-color: var(--hover-bg-color);\n",
              "    box-shadow: 0 1px 2px rgba(60, 64, 67, 0.3), 0 1px 3px 1px rgba(60, 64, 67, 0.15);\n",
              "    fill: var(--button-hover-fill-color);\n",
              "  }\n",
              "\n",
              "  .colab-df-quickchart-complete:disabled,\n",
              "  .colab-df-quickchart-complete:disabled:hover {\n",
              "    background-color: var(--disabled-bg-color);\n",
              "    fill: var(--disabled-fill-color);\n",
              "    box-shadow: none;\n",
              "  }\n",
              "\n",
              "  .colab-df-spinner {\n",
              "    border: 2px solid var(--fill-color);\n",
              "    border-color: transparent;\n",
              "    border-bottom-color: var(--fill-color);\n",
              "    animation:\n",
              "      spin 1s steps(1) infinite;\n",
              "  }\n",
              "\n",
              "  @keyframes spin {\n",
              "    0% {\n",
              "      border-color: transparent;\n",
              "      border-bottom-color: var(--fill-color);\n",
              "      border-left-color: var(--fill-color);\n",
              "    }\n",
              "    20% {\n",
              "      border-color: transparent;\n",
              "      border-left-color: var(--fill-color);\n",
              "      border-top-color: var(--fill-color);\n",
              "    }\n",
              "    30% {\n",
              "      border-color: transparent;\n",
              "      border-left-color: var(--fill-color);\n",
              "      border-top-color: var(--fill-color);\n",
              "      border-right-color: var(--fill-color);\n",
              "    }\n",
              "    40% {\n",
              "      border-color: transparent;\n",
              "      border-right-color: var(--fill-color);\n",
              "      border-top-color: var(--fill-color);\n",
              "    }\n",
              "    60% {\n",
              "      border-color: transparent;\n",
              "      border-right-color: var(--fill-color);\n",
              "    }\n",
              "    80% {\n",
              "      border-color: transparent;\n",
              "      border-right-color: var(--fill-color);\n",
              "      border-bottom-color: var(--fill-color);\n",
              "    }\n",
              "    90% {\n",
              "      border-color: transparent;\n",
              "      border-bottom-color: var(--fill-color);\n",
              "    }\n",
              "  }\n",
              "</style>\n",
              "\n",
              "  <script>\n",
              "    async function quickchart(key) {\n",
              "      const quickchartButtonEl =\n",
              "        document.querySelector('#' + key + ' button');\n",
              "      quickchartButtonEl.disabled = true;  // To prevent multiple clicks.\n",
              "      quickchartButtonEl.classList.add('colab-df-spinner');\n",
              "      try {\n",
              "        const charts = await google.colab.kernel.invokeFunction(\n",
              "            'suggestCharts', [key], {});\n",
              "      } catch (error) {\n",
              "        console.error('Error during call to suggestCharts:', error);\n",
              "      }\n",
              "      quickchartButtonEl.classList.remove('colab-df-spinner');\n",
              "      quickchartButtonEl.classList.add('colab-df-quickchart-complete');\n",
              "    }\n",
              "    (() => {\n",
              "      let quickchartButtonEl =\n",
              "        document.querySelector('#df-1b8c49c3-bf02-4eb8-9df7-8b941c52d6a9 button');\n",
              "      quickchartButtonEl.style.display =\n",
              "        google.colab.kernel.accessAllowed ? 'block' : 'none';\n",
              "    })();\n",
              "  </script>\n",
              "</div>\n",
              "    </div>\n",
              "  </div>\n"
            ]
          },
          "metadata": {},
          "execution_count": 8
        }
      ]
    },
    {
      "cell_type": "code",
      "source": [
        "df.groupby('origin').horsepower.median()"
      ],
      "metadata": {
        "colab": {
          "base_uri": "https://localhost:8080/"
        },
        "id": "xh37gEtYsJRC",
        "outputId": "c2e38f90-5f19-4e12-e823-1d68cc3ad0d6"
      },
      "execution_count": null,
      "outputs": [
        {
          "output_type": "execute_result",
          "data": {
            "text/plain": [
              "origin\n",
              "1    105.0\n",
              "2     76.5\n",
              "3     75.0\n",
              "Name: horsepower, dtype: float64"
            ]
          },
          "metadata": {},
          "execution_count": 9
        }
      ]
    },
    {
      "cell_type": "code",
      "source": [
        "df.horsepower = df.horsepower.fillna(10)"
      ],
      "metadata": {
        "id": "dA42gyBTsVSq"
      },
      "execution_count": null,
      "outputs": []
    },
    {
      "cell_type": "markdown",
      "metadata": {
        "id": "3ENwh23XUwfU"
      },
      "source": [
        "##Корелация"
      ]
    },
    {
      "cell_type": "markdown",
      "metadata": {
        "id": "ALgl1LrRHyrS"
      },
      "source": [
        "Чрез метода corr(), извиквате корелация между всички променливи в дадения DataFrame. Corr() връща коефициент на линейна корелация."
      ]
    },
    {
      "cell_type": "code",
      "metadata": {
        "colab": {
          "base_uri": "https://localhost:8080/",
          "height": 295
        },
        "id": "pZvf-0NRXwAy",
        "outputId": "c4998824-cddc-4bf0-91cd-a40c3a9859e6"
      },
      "source": [
        "df.corr()"
      ],
      "execution_count": null,
      "outputs": [
        {
          "output_type": "execute_result",
          "data": {
            "text/html": [
              "<div>\n",
              "<style scoped>\n",
              "    .dataframe tbody tr th:only-of-type {\n",
              "        vertical-align: middle;\n",
              "    }\n",
              "\n",
              "    .dataframe tbody tr th {\n",
              "        vertical-align: top;\n",
              "    }\n",
              "\n",
              "    .dataframe thead th {\n",
              "        text-align: right;\n",
              "    }\n",
              "</style>\n",
              "<table border=\"1\" class=\"dataframe\">\n",
              "  <thead>\n",
              "    <tr style=\"text-align: right;\">\n",
              "      <th></th>\n",
              "      <th>mpg</th>\n",
              "      <th>cylinders</th>\n",
              "      <th>displacement</th>\n",
              "      <th>horsepower</th>\n",
              "      <th>weight</th>\n",
              "      <th>acceleration</th>\n",
              "      <th>model_year</th>\n",
              "      <th>origin</th>\n",
              "    </tr>\n",
              "  </thead>\n",
              "  <tbody>\n",
              "    <tr>\n",
              "      <th>mpg</th>\n",
              "      <td>1.000000</td>\n",
              "      <td>-0.777618</td>\n",
              "      <td>-0.805127</td>\n",
              "      <td>-0.778427</td>\n",
              "      <td>-0.832244</td>\n",
              "      <td>0.423329</td>\n",
              "      <td>0.580541</td>\n",
              "      <td>0.565209</td>\n",
              "    </tr>\n",
              "    <tr>\n",
              "      <th>cylinders</th>\n",
              "      <td>-0.777618</td>\n",
              "      <td>1.000000</td>\n",
              "      <td>0.950823</td>\n",
              "      <td>0.842983</td>\n",
              "      <td>0.897527</td>\n",
              "      <td>-0.504683</td>\n",
              "      <td>-0.345647</td>\n",
              "      <td>-0.568932</td>\n",
              "    </tr>\n",
              "    <tr>\n",
              "      <th>displacement</th>\n",
              "      <td>-0.805127</td>\n",
              "      <td>0.950823</td>\n",
              "      <td>1.000000</td>\n",
              "      <td>0.897257</td>\n",
              "      <td>0.932994</td>\n",
              "      <td>-0.543800</td>\n",
              "      <td>-0.369855</td>\n",
              "      <td>-0.614535</td>\n",
              "    </tr>\n",
              "    <tr>\n",
              "      <th>horsepower</th>\n",
              "      <td>-0.778427</td>\n",
              "      <td>0.842983</td>\n",
              "      <td>0.897257</td>\n",
              "      <td>1.000000</td>\n",
              "      <td>0.864538</td>\n",
              "      <td>-0.689196</td>\n",
              "      <td>-0.416361</td>\n",
              "      <td>-0.455171</td>\n",
              "    </tr>\n",
              "    <tr>\n",
              "      <th>weight</th>\n",
              "      <td>-0.832244</td>\n",
              "      <td>0.897527</td>\n",
              "      <td>0.932994</td>\n",
              "      <td>0.864538</td>\n",
              "      <td>1.000000</td>\n",
              "      <td>-0.416839</td>\n",
              "      <td>-0.309120</td>\n",
              "      <td>-0.585005</td>\n",
              "    </tr>\n",
              "    <tr>\n",
              "      <th>acceleration</th>\n",
              "      <td>0.423329</td>\n",
              "      <td>-0.504683</td>\n",
              "      <td>-0.543800</td>\n",
              "      <td>-0.689196</td>\n",
              "      <td>-0.416839</td>\n",
              "      <td>1.000000</td>\n",
              "      <td>0.290316</td>\n",
              "      <td>0.212746</td>\n",
              "    </tr>\n",
              "    <tr>\n",
              "      <th>model_year</th>\n",
              "      <td>0.580541</td>\n",
              "      <td>-0.345647</td>\n",
              "      <td>-0.369855</td>\n",
              "      <td>-0.416361</td>\n",
              "      <td>-0.309120</td>\n",
              "      <td>0.290316</td>\n",
              "      <td>1.000000</td>\n",
              "      <td>0.181528</td>\n",
              "    </tr>\n",
              "    <tr>\n",
              "      <th>origin</th>\n",
              "      <td>0.565209</td>\n",
              "      <td>-0.568932</td>\n",
              "      <td>-0.614535</td>\n",
              "      <td>-0.455171</td>\n",
              "      <td>-0.585005</td>\n",
              "      <td>0.212746</td>\n",
              "      <td>0.181528</td>\n",
              "      <td>1.000000</td>\n",
              "    </tr>\n",
              "  </tbody>\n",
              "</table>\n",
              "</div>"
            ],
            "text/plain": [
              "                   mpg  cylinders  ...  model_year    origin\n",
              "mpg           1.000000  -0.777618  ...    0.580541  0.565209\n",
              "cylinders    -0.777618   1.000000  ...   -0.345647 -0.568932\n",
              "displacement -0.805127   0.950823  ...   -0.369855 -0.614535\n",
              "horsepower   -0.778427   0.842983  ...   -0.416361 -0.455171\n",
              "weight       -0.832244   0.897527  ...   -0.309120 -0.585005\n",
              "acceleration  0.423329  -0.504683  ...    0.290316  0.212746\n",
              "model_year    0.580541  -0.345647  ...    1.000000  0.181528\n",
              "origin        0.565209  -0.568932  ...    0.181528  1.000000\n",
              "\n",
              "[8 rows x 8 columns]"
            ]
          },
          "metadata": {},
          "execution_count": 28
        }
      ]
    },
    {
      "cell_type": "code",
      "metadata": {
        "colab": {
          "base_uri": "https://localhost:8080/",
          "height": 282
        },
        "id": "KDk9qK14RgaN",
        "outputId": "79ba4221-a81c-4e21-bbd8-230bca38f91e"
      },
      "source": [
        "plt.scatter(df.mpg, df.weight)"
      ],
      "execution_count": null,
      "outputs": [
        {
          "output_type": "execute_result",
          "data": {
            "text/plain": [
              "<matplotlib.collections.PathCollection at 0x7fa097118cd0>"
            ]
          },
          "metadata": {},
          "execution_count": 25
        },
        {
          "output_type": "display_data",
          "data": {
            "image/png": "[encoded data removed]",
            "text/plain": [
              "<Figure size 432x288 with 1 Axes>"
            ]
          },
          "metadata": {
            "needs_background": "light"
          }
        }
      ]
    },
    {
      "cell_type": "markdown",
      "metadata": {
        "id": "97CZyb15Vtse"
      },
      "source": [
        "Коефициентът на корелация варира между -1 до 1. Отрицателна корелация означава, че при нарастване на едната променлива, другата намалява и обратно. Положителна корелация означава, че и двете промеливи растат, или намаляват заедно. Абсолютната стойност на корелацията показва нейната сила. При корелация 1 (или -1) имаме перфектна линейна връзка между двете променливи - ако ги начертаем една спрямо друга, те ще лежат на една линия. Можем да интерпретираме силата на корелацията както следва: абсолютна стойност 0 - 0.3 - много слабa; 0.3 - 0.5 - слаба към средна; 0.5 - 0.8 средна към силна; 0.8 - 1 силна. (https://www.youtube.com/watch?v=EyMHz5k4SU0)"
      ]
    },
    {
      "cell_type": "code",
      "metadata": {
        "id": "8L_VsGLqVtaj"
      },
      "source": [
        "from scipy.stats import pearsonr, spearmanr"
      ],
      "execution_count": null,
      "outputs": []
    },
    {
      "cell_type": "markdown",
      "metadata": {
        "id": "CqQjRhsRIZkL"
      },
      "source": [
        "Scipy връща не само корелация но и P-value (https://www.youtube.com/watch?v=ukcFrzt6cHk). Обяснено накратко: при тестване на хипотези, стандартно различаваме две такива - нулева хипотеза (липса на ефект) и алтернативна хипотеза (наличие на ефект). Когато мерим корелация, нулевата хипотеза е, че няма такава (т.е. корелационният коефициент = 0). Алтернативната е, че корелацията е различна от 0 - т.е. има такава. Тъй като в данните винаги имаме някаква доза несигурност (шум, незнание), използваме вероятност. P стойността е вероятността да наблюдаваме съответния ефект, ако приемем че нулевата хипотеза е правилна. С други думи в дадения пример - имаме вероятност 6.015*10^102 (изключително малко число), да наблюдаваме корелацията от -0.83, ако нулевата хипотеза беше вярна. Ако p < 0.05 стандартно отхвърляме нулевата хипотеза. В случая, това означава, че корелацията ни е значима."
      ]
    },
    {
      "cell_type": "markdown",
      "metadata": {
        "id": "kGN1bG2AXkyQ"
      },
      "source": [
        "Корелация на Pearson (Линейна корелация)"
      ]
    },
    {
      "cell_type": "code",
      "metadata": {
        "colab": {
          "base_uri": "https://localhost:8080/"
        },
        "id": "yN5wYtWSXTIJ",
        "outputId": "e8740fd7-d78f-4dab-c23d-b90dc83be6fa"
      },
      "source": [
        "pearsonr(df.mpg, df.weight)"
      ],
      "execution_count": null,
      "outputs": [
        {
          "output_type": "execute_result",
          "data": {
            "text/plain": [
              "(-0.8322442148315753, 6.015296051436822e-102)"
            ]
          },
          "metadata": {},
          "execution_count": 30
        }
      ]
    },
    {
      "cell_type": "markdown",
      "metadata": {
        "id": "xo2iTOP3UzbT"
      },
      "source": [
        "Корелация на Spearman (Корелация между ранговете). Корелационният коефициент на Spearman измерва връзка между ранговете на променливите - т.е. ако подредите координатите на всяка една точка от данните веднъж по X и веднъж по Y (първа, втора, трета и т.н.), корелацията е перфектна положителна, ако координатите на първата точка са на първо място и по X и по Y, на втората точка са втори по ранг и т.н. Корелация на Spearman може да се използва при всяка една монотонно нарастваща или намаляваща функция. В случая връзката между променливите има известна нелинейност, следователно получаваме по-силна корелация по Spearman, а не по Pearson."
      ]
    },
    {
      "cell_type": "code",
      "metadata": {
        "colab": {
          "base_uri": "https://localhost:8080/"
        },
        "id": "NT2tX_pUTgO8",
        "outputId": "879f01dd-8956-482e-e06a-8df537c113d0"
      },
      "source": [
        "spearmanr(df.mpg, df.weight)"
      ],
      "execution_count": null,
      "outputs": [
        {
          "output_type": "execute_result",
          "data": {
            "text/plain": [
              "SpearmanrResult(correlation=-0.8755851198739869, pvalue=2.662377938025222e-125)"
            ]
          },
          "metadata": {},
          "execution_count": 31
        }
      ]
    },
    {
      "cell_type": "markdown",
      "metadata": {
        "id": "FqEtqHUmYV9h"
      },
      "source": [
        "# Линейна регресия"
      ]
    },
    {
      "cell_type": "markdown",
      "metadata": {
        "id": "Byw-H-rDjPsx"
      },
      "source": [
        "## Simple linear regression - регресия с една променлива"
      ]
    },
    {
      "cell_type": "markdown",
      "metadata": {
        "id": "ZODAsbKGMqr5"
      },
      "source": [
        "Създаваме обект от класа LinearRegression на sklearn. По подразбиране fit_intercept = True, т.е. sklearn ще добави свободен член към линейната функция. В този случай не е нужно да добавяте колона от единици към вашите данни. Когато използваме statsmodels за регресия, трябва да добавим колона от единици, тъй като sm не добавя свободен член (intercept) имплицитно. Това има предимство, тъй като вие контролирате наличието на такъв."
      ]
    },
    {
      "cell_type": "code",
      "metadata": {
        "id": "mEYkJHIBjU8n"
      },
      "source": [
        "lin_reg = LinearRegression(fit_intercept=True)"
      ],
      "execution_count": null,
      "outputs": []
    },
    {
      "cell_type": "markdown",
      "metadata": {
        "id": "WnazKAobNJD9"
      },
      "source": [
        "X е матрица от независими променливи/features (в случая само една), y е вектор от зависимата променлива/target"
      ]
    },
    {
      "cell_type": "code",
      "metadata": {
        "id": "zpvlL4WElD5R"
      },
      "source": [
        "y = df.horsepower.to_numpy()\n",
        "X = df.displacement.to_numpy()"
      ],
      "execution_count": null,
      "outputs": []
    },
    {
      "cell_type": "markdown",
      "metadata": {
        "id": "MBUDxw-yNUUa"
      },
      "source": [
        "Използваме train_test_split() на sklearn, за да разделим данните на Тренировъчни и Тестови (https://machinelearningmastery.com/train-test-split-for-evaluating-machine-learning-algorithms/). Основната причина за това, е че при някои модели (тези, които са по гъвкави/комплексни) можем да достигнем до моделиране на шума в данните - overfitting. Заради това обучаваме модел върху тренинговото множество, и проверяваме колко добре моделът генерализира върху нови, невиждани данни - тестовото множество. Най-общо, ако резултатите са близки, моделът се е справя добре на нови данни."
      ]
    },
    {
      "cell_type": "markdown",
      "metadata": {
        "id": "wSTUEyuVOLbF"
      },
      "source": [
        "Използваме random_state, за да можем да репродуцираме данните си. Независимо колко пъти направите train_test_split върху тези данни, ако random_state е един и същ, ще получите еднакви тренингови и тестови множества от данни."
      ]
    },
    {
      "cell_type": "code",
      "metadata": {
        "id": "V00l0bhxjtr7"
      },
      "source": [
        "X_train, X_test, y_train, y_test = train_test_split(X, y, train_size=0.7, random_state=42)"
      ],
      "execution_count": null,
      "outputs": []
    },
    {
      "cell_type": "markdown",
      "metadata": {
        "id": "6hikwL4POZv1"
      },
      "source": [
        "Експлицитно променяме формата на X, тъй като при наличие на един единствен feature, sklearn изисква той да бъде описан като вектор."
      ]
    },
    {
      "cell_type": "code",
      "metadata": {
        "id": "YBMBvEnalwZv"
      },
      "source": [
        "X_train = X_train.reshape(-1, 1)\n",
        "X_test = X_test.reshape(-1, 1)"
      ],
      "execution_count": null,
      "outputs": []
    },
    {
      "cell_type": "markdown",
      "metadata": {
        "id": "7gtQXU7-OrvT"
      },
      "source": [
        "Методът fit() намира най-добрата линия (хиперравнина) при съответните данни."
      ]
    },
    {
      "cell_type": "code",
      "metadata": {
        "colab": {
          "base_uri": "https://localhost:8080/"
        },
        "id": "HOwgyAAzjl6n",
        "outputId": "0874f0e7-ded3-414b-f543-f23f9bb59b36"
      },
      "source": [
        "lin_reg.fit(X_train, y_train)"
      ],
      "execution_count": null,
      "outputs": [
        {
          "output_type": "execute_result",
          "data": {
            "text/plain": [
              "LinearRegression(copy_X=True, fit_intercept=True, n_jobs=None, normalize=False)"
            ]
          },
          "metadata": {},
          "execution_count": 50
        }
      ]
    },
    {
      "cell_type": "markdown",
      "metadata": {
        "id": "QIVGULihO0op"
      },
      "source": [
        "Чрез coef_ и intercept_ можете да извикате съответно коефициентите пред всеки feature в модела и свободния член."
      ]
    },
    {
      "cell_type": "code",
      "metadata": {
        "colab": {
          "base_uri": "https://localhost:8080/"
        },
        "id": "olG-5NpHlnak",
        "outputId": "f59b232f-e0ee-4f72-e775-184d817ce1eb"
      },
      "source": [
        "lin_reg.coef_"
      ],
      "execution_count": null,
      "outputs": [
        {
          "output_type": "execute_result",
          "data": {
            "text/plain": [
              "array([0.32619517])"
            ]
          },
          "metadata": {},
          "execution_count": 51
        }
      ]
    },
    {
      "cell_type": "code",
      "metadata": {
        "colab": {
          "base_uri": "https://localhost:8080/"
        },
        "id": "ZG58lV0Zl6nH",
        "outputId": "c83f00c3-6161-490b-970b-5733a30170bc"
      },
      "source": [
        "lin_reg.intercept_"
      ],
      "execution_count": null,
      "outputs": [
        {
          "output_type": "execute_result",
          "data": {
            "text/plain": [
              "40.7060984843082"
            ]
          },
          "metadata": {},
          "execution_count": 52
        }
      ]
    },
    {
      "cell_type": "markdown",
      "metadata": {
        "id": "mJrmb5q0O_7x"
      },
      "source": [
        "Използвайки predict(), правим предвиждане с дадения модел. В случая го извикваме с тренировъчните данни, за да видим как изглежда най-добрата линия при тях. След това повтаряме същото с тестовите данни."
      ]
    },
    {
      "cell_type": "code",
      "metadata": {
        "id": "0IhIFgaImBtB"
      },
      "source": [
        "y_hat_train = lin_reg.predict(X_train)"
      ],
      "execution_count": null,
      "outputs": []
    },
    {
      "cell_type": "code",
      "metadata": {
        "colab": {
          "base_uri": "https://localhost:8080/",
          "height": 421
        },
        "id": "fGqgDSJKmBjv",
        "outputId": "2341f81c-da6b-4cab-da83-fc17da719d6f"
      },
      "source": [
        "plt.figure(figsize=(10, 6))\n",
        "plt.scatter(X_train, y_train)\n",
        "plt.xlabel('Displacement')\n",
        "plt.ylabel('Horsepower')\n",
        "plt.title('Train set')\n",
        "plt.plot(X_train, y_hat_train)"
      ],
      "execution_count": null,
      "outputs": [
        {
          "output_type": "execute_result",
          "data": {
            "text/plain": [
              "[<matplotlib.lines.Line2D at 0x7fa094aa8890>]"
            ]
          },
          "metadata": {},
          "execution_count": 86
        },
        {
          "output_type": "display_data",
          "data": {
            "image/png": "[encoded data removed]",
            "text/plain": [
              "<Figure size 720x432 with 1 Axes>"
            ]
          },
          "metadata": {
            "needs_background": "light"
          }
        }
      ]
    },
    {
      "cell_type": "code",
      "metadata": {
        "id": "Wmku23HZq1hg"
      },
      "source": [
        "y_hat_test = lin_reg.predict(X_test)"
      ],
      "execution_count": null,
      "outputs": []
    },
    {
      "cell_type": "code",
      "metadata": {
        "colab": {
          "base_uri": "https://localhost:8080/",
          "height": 421
        },
        "id": "3qq0WGO1q9ML",
        "outputId": "0cc816f5-b38a-4281-cefb-c0696be781ee"
      },
      "source": [
        "plt.figure(figsize=(10, 6))\n",
        "plt.scatter(X_test, y_test)\n",
        "plt.xlabel('Displacement')\n",
        "plt.ylabel('Horsepower')\n",
        "plt.title('Test set')\n",
        "plt.plot(X_test, y_hat_test)"
      ],
      "execution_count": null,
      "outputs": [
        {
          "output_type": "execute_result",
          "data": {
            "text/plain": [
              "[<matplotlib.lines.Line2D at 0x7fa0949a9c90>]"
            ]
          },
          "metadata": {},
          "execution_count": 88
        },
        {
          "output_type": "display_data",
          "data": {
            "image/png": "[encoded data removed]",
            "text/plain": [
              "<Figure size 720x432 with 1 Axes>"
            ]
          },
          "metadata": {
            "needs_background": "light"
          }
        }
      ]
    },
    {
      "cell_type": "markdown",
      "metadata": {
        "id": "tjH-jgZiPPvZ"
      },
      "source": [
        "## Основни метрики при регресия"
      ]
    },
    {
      "cell_type": "markdown",
      "metadata": {
        "id": "HO2VqyfEm2j2"
      },
      "source": [
        "### $R^{2}$ - коефициент на детерминация (https://www.youtube.com/watch?v=S6AEf9YbScM)."
      ]
    },
    {
      "cell_type": "markdown",
      "metadata": {
        "id": "CeT2Ui03QGpf"
      },
      "source": [
        "Това е полезна метрика, която варира между 0 и 1 (възможно е и да е под 0, но това е трудно за постигане, ако направим всичко както трябва). 1 означава, че моделът обяснява връзката между променливите перфектно (на практика е почти невъзможно). 0 означава, че моделът изобщо не работи. При извикване на score(), след трениране, можете да видите стойността. В случая имаме доста добър модел."
      ]
    },
    {
      "cell_type": "code",
      "metadata": {
        "colab": {
          "base_uri": "https://localhost:8080/"
        },
        "id": "FqtUtubemBce",
        "outputId": "f08cf87a-e734-4fd4-e205-2f2e1e5f739d"
      },
      "source": [
        "lin_reg.score(X_train, y_train)"
      ],
      "execution_count": null,
      "outputs": [
        {
          "output_type": "execute_result",
          "data": {
            "text/plain": [
              "0.7914033981612862"
            ]
          },
          "metadata": {},
          "execution_count": 63
        }
      ]
    },
    {
      "cell_type": "markdown",
      "metadata": {
        "id": "v6pLdjttp530"
      },
      "source": [
        "### MSE - средноквадратична грешка"
      ]
    },
    {
      "cell_type": "markdown",
      "metadata": {
        "id": "RAN1kVNWQf4h"
      },
      "source": [
        "MSE е средната стойност на квадратичната разлика между предвидените и реалните стойности. Една от най-честно използваните Cost функции при регресионни модели. mean_squared_error() на sklearn връща минимизираната стойност на Cost функцията - т.е. най-малката грешка, която можем да постигнем при нашите данни и съответния модел. MSE може да се използва за сравняване на модели."
      ]
    },
    {
      "cell_type": "code",
      "metadata": {
        "colab": {
          "base_uri": "https://localhost:8080/"
        },
        "id": "YTXOzfwnmBVO",
        "outputId": "07ed56b1-02ae-4e2e-d64f-613ef29923a8"
      },
      "source": [
        "mean_squared_error(y_hat_train, y_train)"
      ],
      "execution_count": null,
      "outputs": [
        {
          "output_type": "execute_result",
          "data": {
            "text/plain": [
              "302.2414500849854"
            ]
          },
          "metadata": {},
          "execution_count": 75
        }
      ]
    },
    {
      "cell_type": "code",
      "metadata": {
        "colab": {
          "base_uri": "https://localhost:8080/"
        },
        "id": "PC_mnoinq0xb",
        "outputId": "ab1f28c7-a116-4a11-b6e5-13377bcd853a"
      },
      "source": [
        "mean_squared_error(y_hat_test, y_test)"
      ],
      "execution_count": null,
      "outputs": [
        {
          "output_type": "execute_result",
          "data": {
            "text/plain": [
              "256.08393432363016"
            ]
          },
          "metadata": {},
          "execution_count": 90
        }
      ]
    },
    {
      "cell_type": "markdown",
      "metadata": {
        "id": "jJSu8V78p4ss"
      },
      "source": [
        "### RMSE - корен квадратен от MSE"
      ]
    },
    {
      "cell_type": "markdown",
      "metadata": {
        "id": "2bO71SR_RNH-"
      },
      "source": [
        "RMSE е метрика, която носи малко по-добра интерпретация от MSE. Можем да си я представим като стандартното отклонение, около предвидените стойности (въпреки, че това е валидно само при модел, който описва сравнително точно връзката между feature и target)."
      ]
    },
    {
      "cell_type": "code",
      "metadata": {
        "colab": {
          "base_uri": "https://localhost:8080/"
        },
        "id": "uw6IaTa3ps70",
        "outputId": "9ebc600c-7de5-44ca-ed16-478d1411a2d5"
      },
      "source": [
        "np.sqrt(mean_squared_error(y_hat_train, y_train))"
      ],
      "execution_count": null,
      "outputs": [
        {
          "output_type": "execute_result",
          "data": {
            "text/plain": [
              "17.385092754569513"
            ]
          },
          "metadata": {},
          "execution_count": 76
        }
      ]
    },
    {
      "cell_type": "markdown",
      "metadata": {
        "id": "Gf9JucJkp7fD"
      },
      "source": [
        "### MAE - средна абсолютна грешка"
      ]
    },
    {
      "cell_type": "markdown",
      "metadata": {
        "id": "4daTFsjjRrwq"
      },
      "source": [
        "За разлика от MSE, MAE използва абсолютни стойности на грешките, следователно има по-добра интерпретация, поради липсата на квадрати. Стойността по-долу означава очаквана грешка на модела в единиците, в които е Y. Това означава +/- 12.7 единици средна грешка."
      ]
    },
    {
      "cell_type": "code",
      "metadata": {
        "colab": {
          "base_uri": "https://localhost:8080/"
        },
        "id": "9odNd5jlp2U2",
        "outputId": "1c56c230-2928-46fe-e544-6d0d094085cd"
      },
      "source": [
        "mean_absolute_error(y_hat_train, y_train)"
      ],
      "execution_count": null,
      "outputs": [
        {
          "output_type": "execute_result",
          "data": {
            "text/plain": [
              "12.716437801495847"
            ]
          },
          "metadata": {},
          "execution_count": 77
        }
      ]
    },
    {
      "cell_type": "markdown",
      "metadata": {
        "id": "DpPcYNnzqLfk"
      },
      "source": [
        "### MAPE - средна абсолютна процентна грешка"
      ]
    },
    {
      "cell_type": "markdown",
      "metadata": {
        "id": "PeyBKN0OSQnU"
      },
      "source": [
        "MAPE има предимството, че изразява грешката в проценти, което би могло да бъде много удобно. Въпреки лесната си интерпретация, често може да бъде подвеждаща."
      ]
    },
    {
      "cell_type": "code",
      "metadata": {
        "colab": {
          "base_uri": "https://localhost:8080/"
        },
        "id": "oL8ZblQdp2OT",
        "outputId": "79deddab-bb03-4f3d-d8e2-91297a9fa06d"
      },
      "source": [
        "np.sum(np.abs((y_hat_train-y_train)/y_train))/274"
      ],
      "execution_count": null,
      "outputs": [
        {
          "output_type": "execute_result",
          "data": {
            "text/plain": [
              "0.12743959021687398"
            ]
          },
          "metadata": {},
          "execution_count": 82
        }
      ]
    },
    {
      "cell_type": "markdown",
      "metadata": {
        "id": "ibwcZf02rixK"
      },
      "source": [
        "## Multiple regression - регресия с повече от един feature"
      ]
    },
    {
      "cell_type": "code",
      "metadata": {
        "colab": {
          "base_uri": "https://localhost:8080/"
        },
        "id": "eFS_HkEar3br",
        "outputId": "41eff41f-36a0-4a92-f847-62503031d384"
      },
      "source": [
        "df.columns"
      ],
      "execution_count": null,
      "outputs": [
        {
          "output_type": "execute_result",
          "data": {
            "text/plain": [
              "Index(['mpg', 'cylinders', 'displacement', 'horsepower', 'weight',\n",
              "       'acceleration', 'model_year', 'origin', 'car_name'],\n",
              "      dtype='object')"
            ]
          },
          "metadata": {},
          "execution_count": 92
        }
      ]
    },
    {
      "cell_type": "markdown",
      "metadata": {
        "id": "3n0XgXD0S1ms"
      },
      "source": [
        "Не е лоша идея предварително да видим как изглежда връзката между променливите ни чрез scatterplot. pairplot() на seaborn е бърз начин да постигнем това."
      ]
    },
    {
      "cell_type": "code",
      "metadata": {
        "colab": {
          "base_uri": "https://localhost:8080/",
          "height": 214
        },
        "id": "9vBrRbImrkTl",
        "outputId": "e9cb4f4b-7937-4499-c9c2-e367b70fbb0f"
      },
      "source": [
        "sns.pairplot(df, x_vars=['mpg', 'cylinders', 'displacement',  'weight',\n",
        "       'acceleration', 'model_year'], y_vars='horsepower')"
      ],
      "execution_count": null,
      "outputs": [
        {
          "output_type": "execute_result",
          "data": {
            "text/plain": [
              "<seaborn.axisgrid.PairGrid at 0x7fa089438d90>"
            ]
          },
          "metadata": {},
          "execution_count": 93
        },
        {
          "output_type": "display_data",
          "data": {
            "image/png": "[encoded data removed]",
            "text/plain": [
              "<Figure size 1080x180 with 6 Axes>"
            ]
          },
          "metadata": {
            "needs_background": "light"
          }
        }
      ]
    },
    {
      "cell_type": "markdown",
      "metadata": {
        "id": "hqMRoUSuTDeQ"
      },
      "source": [
        "Линейният модел е линеен спрямо своите коефициенти. Поради това, на теория можете да трансформирате всяка една променлива и моделът пак е валиден. Т.е. вместо да вземете $y=a.x+b$, можете да сметнете $y=a.f(x) + b$. По долу логаритмуваме променливата mpg, тъй като връзката ѝ с horsepower не изглежда изцяло линейна. Друг вариант е mpg да се вземе на втора степен."
      ]
    },
    {
      "cell_type": "code",
      "metadata": {
        "id": "Q-WTXgN6tSco"
      },
      "source": [
        "df['log_mpg'] = np.log(df.mpg)"
      ],
      "execution_count": null,
      "outputs": []
    },
    {
      "cell_type": "markdown",
      "metadata": {
        "id": "RtE4OwFnTgD_"
      },
      "source": [
        "Тъй като тук ще използваме statsmodels за регресия, експлицитно добавяме вектор с 1 за свободния член в модела."
      ]
    },
    {
      "cell_type": "code",
      "metadata": {
        "id": "wc9N8WYstq-o"
      },
      "source": [
        "df['const'] = 1"
      ],
      "execution_count": null,
      "outputs": []
    },
    {
      "cell_type": "markdown",
      "metadata": {
        "id": "hbvJUXphTqlX"
      },
      "source": [
        "Добре е да превърнем категорийни променливи в тип category на Pandas. Така по-долу ги пропускаме при избиране на числов тип данни."
      ]
    },
    {
      "cell_type": "code",
      "metadata": {
        "id": "j7Y9vpohuFAw"
      },
      "source": [
        "df.origin = df.origin.astype('category')"
      ],
      "execution_count": null,
      "outputs": []
    },
    {
      "cell_type": "markdown",
      "metadata": {
        "id": "WlnabsCdjcNa"
      },
      "source": [
        "Избираме само числови данни."
      ]
    },
    {
      "cell_type": "code",
      "metadata": {
        "id": "q1gGfRPptwiI"
      },
      "source": [
        "mat = df.select_dtypes(['int', 'float'])"
      ],
      "execution_count": null,
      "outputs": []
    },
    {
      "cell_type": "code",
      "metadata": {
        "id": "Dn9NJptlumUF"
      },
      "source": [
        "y = mat.horsepower"
      ],
      "execution_count": null,
      "outputs": []
    },
    {
      "cell_type": "code",
      "metadata": {
        "id": "uI9OG0NLumBH"
      },
      "source": [
        "X = mat.drop(labels='horsepower', axis=1)"
      ],
      "execution_count": null,
      "outputs": []
    },
    {
      "cell_type": "code",
      "metadata": {
        "id": "YcsYzT6Rul-Y"
      },
      "source": [
        "X_train, X_test, y_train, y_test = train_test_split(X, y, train_size=0.7, random_state=42)"
      ],
      "execution_count": null,
      "outputs": []
    },
    {
      "cell_type": "markdown",
      "metadata": {
        "id": "i48GUfh5T4Nf"
      },
      "source": [
        "При statsmodels OLS() прави стандартна регресия - OLS е ordinary least squares, което е методът за намиране на най-добрата линия/хиперравнина."
      ]
    },
    {
      "cell_type": "code",
      "metadata": {
        "id": "fBk8L2UErkRC"
      },
      "source": [
        "reg = sm.OLS(y_train, X_train).fit()"
      ],
      "execution_count": null,
      "outputs": []
    },
    {
      "cell_type": "markdown",
      "metadata": {
        "id": "Mtu-OK3dULWn"
      },
      "source": [
        "Предимството на statsmodels при някои модели, е че можем да получим таблицата дадена по-долу. От нея имаме много информация за нашия модел. В случая наблюдаваме добър $R^2$. Допълнително виждаме и Adjusted $R^2$, като е желателно двете стойности да са близки (https://www.statisticshowto.com/probability-and-statistics/statistics-definitions/adjusted-r2/)"
      ]
    },
    {
      "cell_type": "code",
      "metadata": {
        "colab": {
          "base_uri": "https://localhost:8080/"
        },
        "id": "RRvNLHENrkMp",
        "outputId": "f2030d09-bbe9-44bb-ab14-ebda0601eb2d"
      },
      "source": [
        "print(reg.summary())"
      ],
      "execution_count": null,
      "outputs": [
        {
          "output_type": "stream",
          "name": "stdout",
          "text": [
            "                            OLS Regression Results                            \n",
            "==============================================================================\n",
            "Dep. Variable:             horsepower   R-squared:                       0.883\n",
            "Model:                            OLS   Adj. R-squared:                  0.881\n",
            "Method:                 Least Squares   F-statistic:                     507.3\n",
            "Date:                Mon, 08 Nov 2021   Prob (F-statistic):          5.94e-124\n",
            "Time:                        18:14:21   Log-Likelihood:                -1092.1\n",
            "No. Observations:                 274   AIC:                             2194.\n",
            "Df Residuals:                     269   BIC:                             2212.\n",
            "Df Model:                           4                                         \n",
            "Covariance Type:            nonrobust                                         \n",
            "================================================================================\n",
            "                   coef    std err          t      P>|t|      [0.025      0.975]\n",
            "--------------------------------------------------------------------------------\n",
            "mpg             -0.5313      0.186     -2.864      0.005      -0.897      -0.166\n",
            "displacement     0.0959      0.024      4.032      0.000       0.049       0.143\n",
            "weight           0.0169      0.003      5.814      0.000       0.011       0.023\n",
            "acceleration    -4.6751      0.350    -13.370      0.000      -5.364      -3.987\n",
            "const          120.6113     10.138     11.897      0.000     100.652     140.570\n",
            "==============================================================================\n",
            "Omnibus:                       90.854   Durbin-Watson:                   1.837\n",
            "Prob(Omnibus):                  0.000   Jarque-Bera (JB):              330.055\n",
            "Skew:                           1.380   Prob(JB):                     2.14e-72\n",
            "Kurtosis:                       7.614   Cond. No.                     3.97e+04\n",
            "==============================================================================\n",
            "\n",
            "Warnings:\n",
            "[1] Standard Errors assume that the covariance matrix of the errors is correctly specified.\n",
            "[2] The condition number is large, 3.97e+04. This might indicate that there are\n",
            "strong multicollinearity or other numerical problems.\n"
          ]
        }
      ]
    },
    {
      "cell_type": "markdown",
      "metadata": {
        "id": "yBoN__UHVIWf"
      },
      "source": [
        "Както наблюдавахме при корелацията по-горе, и тук имаме p-value. В този случай интерпретацията е подобна - нулевата хипотеза е, че коефициентът пред дадената променлива е 0 (т.е. променливата не влияе на target-a). Алтернативната хипотеза - коефициентът е различен от 0. При p стойност <0.05 можем да приемем, че даденият коефициент е значим за модела. Когато премахвате незначими коефициенти е желателно да го правите един по-един, защото след всяко едно премахване, останалите коефициенти и техните p стойности се променят."
      ]
    }
  ]
}